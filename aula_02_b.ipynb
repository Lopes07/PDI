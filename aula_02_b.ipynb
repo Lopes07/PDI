{
  "nbformat": 4,
  "nbformat_minor": 0,
  "metadata": {
    "colab": {
      "provenance": [],
      "authorship_tag": "ABX9TyMX+tRNKi7khoQSX84CaMzc",
      "include_colab_link": true
    },
    "kernelspec": {
      "name": "python3",
      "display_name": "Python 3"
    },
    "language_info": {
      "name": "python"
    }
  },
  "cells": [
    {
      "cell_type": "markdown",
      "metadata": {
        "id": "view-in-github",
        "colab_type": "text"
      },
      "source": [
        "<a href=\"https://colab.research.google.com/github/MFerrugem/PDI_UFPEL/blob/main/aula_02_b.ipynb\" target=\"_parent\"><img src=\"https://colab.research.google.com/assets/colab-badge.svg\" alt=\"Open In Colab\"/></a>"
      ]
    },
    {
      "cell_type": "markdown",
      "source": [
        "Instalar módulo Exifread.\n",
        "Para imagens TIFF e JPEG, esses dados são conhecidos como dados EXIF, podendo ser utilizada a biblioteca Python exifread. A opção \"rb\" abre o arquivo em formato binário para leituras."
      ],
      "metadata": {
        "id": "0qgDd7Cd4Qno"
      }
    },
    {
      "cell_type": "code",
      "source": [
        "pip install exifread"
      ],
      "metadata": {
        "colab": {
          "base_uri": "https://localhost:8080/"
        },
        "id": "OQKmNOYN_2d3",
        "outputId": "d7286f57-7223-41df-d14a-2b7fcf58f768"
      },
      "execution_count": 16,
      "outputs": [
        {
          "output_type": "stream",
          "name": "stdout",
          "text": [
            "Looking in indexes: https://pypi.org/simple, https://us-python.pkg.dev/colab-wheels/public/simple/\n",
            "Collecting exifread\n",
            "  Downloading ExifRead-3.0.0-py3-none-any.whl (40 kB)\n",
            "\u001b[2K     \u001b[90m━━━━━━━━━━━━━━━━━━━━━━━━━━━━━━━━━━━━━━━━\u001b[0m \u001b[32m40.4/40.4 kB\u001b[0m \u001b[31m3.6 MB/s\u001b[0m eta \u001b[36m0:00:00\u001b[0m\n",
            "\u001b[?25hInstalling collected packages: exifread\n",
            "Successfully installed exifread-3.0.0\n"
          ]
        }
      ]
    },
    {
      "cell_type": "markdown",
      "source": [
        "Ler os módulos."
      ],
      "metadata": {
        "id": "RPD_1b7Q_-rk"
      }
    },
    {
      "cell_type": "code",
      "execution_count": 18,
      "metadata": {
        "id": "XEQdHSZt4PKY"
      },
      "outputs": [],
      "source": [
        "import exifread"
      ]
    },
    {
      "cell_type": "markdown",
      "source": [
        "Abrindo o arquivo para leitura no modo binário.\n",
        "\n"
      ],
      "metadata": {
        "id": "0dOcqTTK4ctM"
      }
    },
    {
      "cell_type": "code",
      "source": [
        "file_info=open('images/galaxy.tif','rb')"
      ],
      "metadata": {
        "id": "7_1dBtwl4ivu"
      },
      "execution_count": 19,
      "outputs": []
    },
    {
      "cell_type": "markdown",
      "source": [
        "Extrair os metadados da imagem.\n",
        "\n",
        "---\n",
        "\n"
      ],
      "metadata": {
        "id": "DGQHd_Od437p"
      }
    },
    {
      "cell_type": "code",
      "source": [
        "try:\n",
        "\ttags=exifread.process_file(file_info,details=False)\n",
        "except:\n",
        "\tprint('process_file fail')\n",
        "\n",
        "for x in tags:\n",
        "\tprint (x.ljust(32),':',tags[x])"
      ],
      "metadata": {
        "colab": {
          "base_uri": "https://localhost:8080/"
        },
        "id": "LsjahOc05EFm",
        "outputId": "14d493ab-aeb3-4018-c683-9ae5521c2da9"
      },
      "execution_count": 20,
      "outputs": [
        {
          "output_type": "stream",
          "name": "stdout",
          "text": [
            "Image ImageWidth                 : 965\n",
            "Image ImageLength                : 965\n",
            "Image BitsPerSample              : [8, 8, 8]\n",
            "Image Compression                : LZW\n",
            "Image PhotometricInterpretation  : 2\n",
            "Image StripOffsets               : 8\n",
            "Image Orientation                : Horizontal (normal)\n",
            "Image SamplesPerPixel            : 3\n",
            "Image RowsPerStrip               : 965\n",
            "Image StripByteCounts            : 276072\n",
            "Image XResolution                : 1200\n",
            "Image YResolution                : 1200\n",
            "Image PlanarConfiguration        : 1\n",
            "Image ResolutionUnit             : Pixels/Inch\n"
          ]
        }
      ]
    }
  ]
}