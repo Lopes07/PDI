{
  "nbformat": 4,
  "nbformat_minor": 0,
  "metadata": {
    "colab": {
      "provenance": [],
      "authorship_tag": "ABX9TyPo3JUEcqEryAT5ehdj7vbs",
      "include_colab_link": true
    },
    "kernelspec": {
      "name": "python3",
      "display_name": "Python 3"
    },
    "language_info": {
      "name": "python"
    }
  },
  "cells": [
    {
      "cell_type": "markdown",
      "metadata": {
        "id": "view-in-github",
        "colab_type": "text"
      },
      "source": [
        "<a href=\"https://colab.research.google.com/github/MFerrugem/PDI_UFPEL/blob/main/aula_02_c.ipynb\" target=\"_parent\"><img src=\"https://colab.research.google.com/assets/colab-badge.svg\" alt=\"Open In Colab\"/></a>"
      ]
    },
    {
      "cell_type": "markdown",
      "source": [
        "Ler os módulos."
      ],
      "metadata": {
        "id": "RPD_1b7Q_-rk"
      }
    },
    {
      "cell_type": "code",
      "execution_count": 1,
      "metadata": {
        "id": "XEQdHSZt4PKY"
      },
      "outputs": [],
      "source": [
        "from PIL import Image\n",
        "from PIL.ExifTags import TAGS"
      ]
    },
    {
      "cell_type": "markdown",
      "source": [
        "Abrindo o arquivo pelo modulo Image.\n",
        "\n"
      ],
      "metadata": {
        "id": "0dOcqTTK4ctM"
      }
    },
    {
      "cell_type": "code",
      "source": [
        "image = Image.open('images/backyard.png')"
      ],
      "metadata": {
        "id": "7_1dBtwl4ivu"
      },
      "execution_count": 5,
      "outputs": []
    },
    {
      "cell_type": "markdown",
      "source": [
        "Extrair os metadados da imagem.\n",
        "\n",
        "---\n",
        "\n"
      ],
      "metadata": {
        "id": "DGQHd_Od437p"
      }
    },
    {
      "cell_type": "code",
      "source": [
        "info_dict = {\n",
        "    \"Filename\": image.filename,\n",
        "    \"Image Size\": image.size,\n",
        "    \"Image Height\": image.height,\n",
        "    \"Image Width\": image.width,\n",
        "    \"Image Format\": image.format,\n",
        "    \"Image Mode\": image.mode,\n",
        "    \"Image is Animated\": getattr(image, \"is_animated\", False),\n",
        "    \"Frames in Image\": getattr(image, \"n_frames\", 1)\n",
        "}"
      ],
      "metadata": {
        "id": "LsjahOc05EFm"
      },
      "execution_count": 6,
      "outputs": []
    },
    {
      "cell_type": "code",
      "source": [
        "for label,value in info_dict.items():\n",
        "    print(f\"{label:25}: {value}\")"
      ],
      "metadata": {
        "id": "M2oE49Z_D2EY",
        "outputId": "83047aa5-a4be-462f-fabd-206409e5bf7e",
        "colab": {
          "base_uri": "https://localhost:8080/"
        }
      },
      "execution_count": 7,
      "outputs": [
        {
          "output_type": "stream",
          "name": "stdout",
          "text": [
            "Filename                 : images/backyard.png\n",
            "Image Size               : (482, 643)\n",
            "Image Height             : 643\n",
            "Image Width              : 482\n",
            "Image Format             : PNG\n",
            "Image Mode               : RGB\n",
            "Image is Animated        : False\n",
            "Frames in Image          : 1\n"
          ]
        }
      ]
    }
  ]
}