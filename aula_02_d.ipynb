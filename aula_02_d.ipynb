{
  "nbformat": 4,
  "nbformat_minor": 0,
  "metadata": {
    "colab": {
      "provenance": [],
      "authorship_tag": "ABX9TyPsadmj0RnpbmizBkbljKzB",
      "include_colab_link": true
    },
    "kernelspec": {
      "name": "python3",
      "display_name": "Python 3"
    },
    "language_info": {
      "name": "python"
    }
  },
  "cells": [
    {
      "cell_type": "markdown",
      "metadata": {
        "id": "view-in-github",
        "colab_type": "text"
      },
      "source": [
        "<a href=\"https://colab.research.google.com/github/MFerrugem/PDI_UFPEL/blob/main/aula_02_d.ipynb\" target=\"_parent\"><img src=\"https://colab.research.google.com/assets/colab-badge.svg\" alt=\"Open In Colab\"/></a>"
      ]
    },
    {
      "cell_type": "markdown",
      "source": [
        "Ler os módulos."
      ],
      "metadata": {
        "id": "RPD_1b7Q_-rk"
      }
    },
    {
      "cell_type": "code",
      "execution_count": 1,
      "metadata": {
        "id": "XEQdHSZt4PKY"
      },
      "outputs": [],
      "source": [
        "from PIL import Image\n",
        "from PIL.ExifTags import TAGS"
      ]
    },
    {
      "cell_type": "markdown",
      "source": [
        "Abrindo o arquivo pelo modulo Image.\n",
        "\n"
      ],
      "metadata": {
        "id": "0dOcqTTK4ctM"
      }
    },
    {
      "cell_type": "code",
      "source": [
        "image = Image.open('images/galaxy.tif')"
      ],
      "metadata": {
        "id": "7_1dBtwl4ivu"
      },
      "execution_count": 2,
      "outputs": []
    },
    {
      "cell_type": "markdown",
      "source": [
        "Extrair os metadados da imagem.\n",
        "\n",
        "---\n",
        "\n"
      ],
      "metadata": {
        "id": "DGQHd_Od437p"
      }
    },
    {
      "cell_type": "code",
      "source": [
        "exifdata = image.getexif()"
      ],
      "metadata": {
        "id": "LsjahOc05EFm"
      },
      "execution_count": 3,
      "outputs": []
    },
    {
      "cell_type": "markdown",
      "source": [
        "Todos os dados contidos no campo de dados de EXIF"
      ],
      "metadata": {
        "id": "sJV7JCXTErgc"
      }
    },
    {
      "cell_type": "code",
      "source": [
        "for tag_id in exifdata:\n",
        "    # tag name em vez de tag id  ilegível para humanos\n",
        "    tag = TAGS.get(tag_id, tag_id)\n",
        "    data = exifdata.get(tag_id)\n",
        "    # decodificar bytes\n",
        "    if isinstance(data, bytes):\n",
        "        data = data.decode()\n",
        "    print(f\"{tag:25}: {data}\")"
      ],
      "metadata": {
        "colab": {
          "base_uri": "https://localhost:8080/"
        },
        "id": "M2oE49Z_D2EY",
        "outputId": "2cce0fe9-25bf-4af5-f2fc-062aabff234d"
      },
      "execution_count": 4,
      "outputs": [
        {
          "output_type": "stream",
          "name": "stdout",
          "text": [
            "ImageWidth               : 965\n",
            "ImageLength              : 965\n",
            "BitsPerSample            : (8, 8, 8)\n",
            "Compression              : 5\n",
            "PhotometricInterpretation: 2\n",
            "ResolutionUnit           : 2\n",
            "StripOffsets             : 8\n",
            "Orientation              : 1\n",
            "SamplesPerPixel          : 3\n",
            "RowsPerStrip             : 965\n",
            "StripByteCounts          : 276072\n",
            "XResolution              : 1200.0\n",
            "YResolution              : 1200.0\n",
            "PlanarConfiguration      : 1\n"
          ]
        }
      ]
    }
  ]
}